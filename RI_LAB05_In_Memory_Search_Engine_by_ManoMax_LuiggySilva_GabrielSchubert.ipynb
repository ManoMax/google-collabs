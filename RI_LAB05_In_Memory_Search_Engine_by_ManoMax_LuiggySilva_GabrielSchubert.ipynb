{
  "nbformat": 4,
  "nbformat_minor": 0,
  "metadata": {
    "colab": {
      "name": "Cópia_de_RI_LAB05_In_Memory_Search_Engine.ipynb",
      "provenance": [],
      "collapsed_sections": [],
      "include_colab_link": true
    },
    "kernelspec": {
      "name": "python3",
      "display_name": "Python 3"
    },
    "language_info": {
      "name": "python"
    }
  },
  "cells": [
    {
      "cell_type": "markdown",
      "metadata": {
        "id": "view-in-github",
        "colab_type": "text"
      },
      "source": [
        "<a href=\"https://colab.research.google.com/github/ManoMax/google-collabs/blob/main/RI_LAB05_In_Memory_Search_Engine_by_ManoMax_LuiggySilva_GabrielSchubert.ipynb\" target=\"_parent\"><img src=\"https://colab.research.google.com/assets/colab-badge.svg\" alt=\"Open In Colab\"/></a>"
      ]
    },
    {
      "cell_type": "markdown",
      "source": [
        "# In-Memory Search Engine\n",
        "\n",
        "Hoje vamos implementar um pequeno motor de busca para exercitar os principais conceitos vistos na disciplina até o momento. Na próxima aula iremos discutir/avaliar/comparar as soluções apresentadas pelos grupos.\n",
        "\n",
        "**INSTRUÇÕES**\n",
        "\n",
        "Esta atividade deve ser feita em grupos de 2 ou 3 alunos. Apenas 1 aluno precisa enviar o link do google colab pelo formulário. No formulário há campos para informar os nomes dos demais membros do grupo.\n",
        "\n",
        "Cuidado: verifique se a opção de compartilhamento está no formato \"todos com o link podem acessar\". Caso não esteja compartilhado corretamente, a submissão será ignorada. ATENÇÃO: a última edição do arquivo deve ser antes do prazo de entrega.\n",
        "\n",
        "**DESCRIÇÃO**\n",
        "\n",
        "O motor de busca deverá ser capaz de ler os dados de um arquivo CSV com 2 colunas:\n",
        "\n",
        "* id: o ID do documento (número inteiro)\n",
        "* texto: o texto do documento\n",
        "\n",
        "Como a intenção é fazer um motor de busca bem simples, o índice é mantido 100% em memória, na estrutura que julgarem mais adequada. Também não iremos nos preocupar com compressão de índice para economizar memória.\n",
        "\n",
        "Os textos dos documentos devem passar por um pré-processamento antes de serem indexados.\n",
        "\n",
        "A estratégia rankeamento deve ser baseada em TF e IDF.\n",
        "\n",
        "O buscador não precisa fazer busca tolerante.\n",
        "\n",
        "Há uma classe python pré-definida que deve existir, onde você deve criar os métodos. Porém, se quiser criar outras classes para serem usadas pela classe principal, não há problema.\n",
        "\n",
        "\n",
        "\n",
        "\n",
        "\n",
        "\n",
        "\n",
        "\n",
        "\n"
      ],
      "metadata": {
        "id": "CugML9k_czi_"
      }
    },
    {
      "cell_type": "markdown",
      "source": [
        "# CSV utilizado para testes:"
      ],
      "metadata": {
        "id": "DUxPRCsBfas0"
      }
    },
    {
      "cell_type": "markdown",
      "source": [
        "id,texto\n",
        "1,\"These are short, famous texts in English from classic sources like the Bible or Shakespeare. Some texts have word definitions and explanations to help you. Some of these texts are written in an old style of English. Try to understand them, because the English that we speak today is based on what our great, great, great, great grandparents spoke before! Of course, not all these texts were originally written in English. The Bible, for example, is a translation. But they are all well known in English today, and many of them express beautiful thoughts.\"\n",
        "2,\"I live in a house near the mountains. I have two brothers and one sister, and I was born last. My father teaches mathematics, and my mother is a nurse at a big hospital. My brothers are very smart and work hard in school. My sister is a nervous girl, but she is very kind. My grandmother also lives with us. She came from Italy when I was two years old. She has grown old, but she is still very strong. She cooks the best food! My family is very important to me. We do lots of things together. My brothers and I like to go on long walks in the mountains. My sister likes to cook with my grandmother. On the weekends we all play board games together fun. We laugh and always have a good time. I love my family very much.\"\n",
        "3,\"Jack was hungry. He walked to the kitchen. He got out some eggs. He took out some oil. He placed a skillet on the stove. Next, he turned on the heat. He poured the oil into the skillet. He cracked the eggs into a bowl. He stirred the eggs. Then, he poured them into the hot skillet. He waited while the eggs cooked. They cooked for two minutes. He heard them cooking. They popped in the oil. Next, Jack put the eggs on a plate. He placed the plate on the dining room table. Jack loved looking at his eggs. They looked pretty on the white plate. He sat down in the large wooden chair. He thought about the day ahead. He ate the eggs with a spoon. They were good. He washed the plate with dishwashing soap. Then, he washed the pan. He got a sponge damp. Finally, he wiped down the table. Next, Jack watched TV fun.\"\n",
        "4,\"Every year we go to Florida. We like to go to the beach. My favorite beach is called Emerson Beach. It is very long, with soft sand and palm trees. It is very beautiful. I like to make sandcastles and watch the sailboats go by. Sometimes there are dolphins and whales in the water! Every morning we look for shells in the sand. I found fifteen big shells last year. I put them in a special place in my room. This year I want to learn to surf. It is hard to surf, but so much fun fun fun! My sister is a good surfer. She says that she can teach me. I hope I can do it!\"\n",
        "5,\"Lucas goes to school every day of the week. He has many subjects to go to each school day: English, art, science, mathematics, gym, and history. His mother packs a big backpack full of books and lunch for Lucas. His first class is English, and he likes that teacher very much. His English teacher says that he is a good pupil, which Lucas knows means that she thinks he is a good student. His next class is art. He draws on paper with crayons and pencils and sometimes uses a ruler. Lucas likes art. It is his favorite class. His third class is science. This class is very hard for Lucas to figure out, but he gets to work with his classmates a lot, which he likes to do. His friend, Kyle, works with Lucas in science class, and they have fun fun.\""
      ],
      "metadata": {
        "id": "BDe17hvl-NFe"
      }
    },
    {
      "cell_type": "code",
      "source": [
        ""
      ],
      "metadata": {
        "id": "werhFFKngf5l"
      },
      "execution_count": null,
      "outputs": []
    },
    {
      "cell_type": "markdown",
      "source": [
        "# Implementação"
      ],
      "metadata": {
        "id": "7bNrQnzvthe8"
      }
    },
    {
      "cell_type": "markdown",
      "source": [
        "## Classe Principal do Buscador"
      ],
      "metadata": {
        "id": "HlpXebiutkkV"
      }
    },
    {
      "cell_type": "markdown",
      "source": [
        "### Importando as Bibliotecas"
      ],
      "metadata": {
        "id": "JKGasXUzfnv-"
      }
    },
    {
      "cell_type": "code",
      "source": [
        "import pandas as pd\n",
        "import functools\n",
        "import nltk\n",
        "from nltk.stem import PorterStemmer\n",
        "from nltk.corpus import stopwords\n",
        "\n",
        "nltk.download('stopwords')"
      ],
      "metadata": {
        "id": "33ykJb4tyzfq",
        "colab": {
          "base_uri": "https://localhost:8080/"
        },
        "outputId": "2f50af6b-d161-4c49-a978-b1deb6cf115b"
      },
      "execution_count": 32,
      "outputs": [
        {
          "output_type": "stream",
          "name": "stderr",
          "text": [
            "[nltk_data] Downloading package stopwords to /root/nltk_data...\n",
            "[nltk_data]   Package stopwords is already up-to-date!\n"
          ]
        },
        {
          "output_type": "execute_result",
          "data": {
            "text/plain": [
              "True"
            ]
          },
          "metadata": {},
          "execution_count": 32
        }
      ]
    },
    {
      "cell_type": "markdown",
      "source": [
        "### Criando Classe em Memória com os principais métodos de pré-processamento, busca e rankeamento:"
      ],
      "metadata": {
        "id": "2GZTiHVIfqZD"
      }
    },
    {
      "cell_type": "code",
      "source": [
        "class InMemSearchEngine():\n",
        "\t# Setando nltk.corpus para gramática inglesa (stopwords)\n",
        "\tdef __init__(self, path_corpus_file):\n",
        "\t\tself.path_to_corpus_file = path_corpus_file\n",
        "\t\tself.raw_corpus = pd.read_csv(self.path_to_corpus_file, index_col=0, squeeze=True).to_dict()\n",
        "\t\tself.corpus = dict()\n",
        "\t\tself.english_stop_words = set(stopwords.words(\"english\"))\n",
        "\t\tself.init_corpus()\n",
        "\n",
        "\t# Indicação de posição sobre cada palavra\n",
        "\tdef init_corpus(self):\n",
        "\t\tfor id, texto in self.raw_corpus.items():\n",
        "\t\t\tinverted_doc = self.inverted_index(texto)\n",
        "\t\t\tself.inverted_index_add(self.corpus, id, inverted_doc)\n",
        "\n",
        "\t# Separação dos textos por palavras\n",
        "\tdef word_split(self, text):\n",
        "\t\tword_list = []\n",
        "\t\twcurrent = []\n",
        "\t\twindex = None\n",
        "\t\tfor i, c in enumerate(text):\n",
        "\t\t\tif c.isalnum():\n",
        "\t\t\t\twcurrent.append(c)\n",
        "\t\t\t\twindex = i\n",
        "\t\t\telif wcurrent:\n",
        "\t\t\t\tword = u''.join(wcurrent)\n",
        "\t\t\t\tword_list.append((windex - len(word) + 1, word))\n",
        "\t\t\t\twcurrent = []\n",
        "\t\tif wcurrent:\n",
        "\t\t\tword = u''.join(wcurrent)\n",
        "\t\t\tword_list.append((windex - len(word) + 1, word))\n",
        "\t\treturn word_list\n",
        "\n",
        "\t# Filtragem das palavras mais relevantes dos textos, a partir dos stopwords\n",
        "\tdef words_cleanup(self, words):\n",
        "\t\tcleaned_words = []\n",
        "\t\tfor index, word in words:\n",
        "\t\t\tif len(word) < 1 or word in self.english_stop_words:\n",
        "\t\t\t\tcontinue\n",
        "\t\t\tcleaned_words.append((index, word))\n",
        "\t\treturn cleaned_words\n",
        "\n",
        "\t# Normalização das palavras, para facilitar buscas\n",
        "\tdef words_normalize(self, words):\n",
        "\t\tnormalized_words = []\n",
        "\t\tfor index, word in words:\n",
        "\t\t\twnormalized = word.lower()\n",
        "\t\t\tnormalized_words.append((index, wnormalized))\n",
        "\t\treturn normalized_words\n",
        "\t\n",
        "\t# Aplicação de Stemmer, separação, normalização e filtragem de palavras nos textos\n",
        "\tdef word_index(self, text):\n",
        "\t\tps = PorterStemmer()\n",
        "\t\twords = self.word_split(text)\n",
        "\t\twords = [(pos, ps.stem(word)) for pos, word in words]\n",
        "\t\twords = self.words_normalize(words)\n",
        "\t\twords = self.words_cleanup(words)\n",
        "\t\treturn words\n",
        "\n",
        "\t# Busca e retorno de índices de cada respectiva palavra\n",
        "\tdef inverted_index(self, text):\n",
        "\t\tinverted = {}\n",
        "\t\tfor index, word in self.word_index(text):\n",
        "\t\t\tlocations = inverted.setdefault(word, [])\n",
        "\t\t\tlocations.append(index)\n",
        "\t\treturn inverted\n",
        "\n",
        "\t# Busca e retorno de palavras de cada respectivos índices\n",
        "\tdef inverted_index_add(self, inverted, doc_id, doc_index):\n",
        "\t\tfor word, locations in doc_index.items():\n",
        "\t\t\tindices = inverted.setdefault(word, {})\n",
        "\t\t\tindices[doc_id] = locations\n",
        "\t\treturn inverted\n",
        "\n",
        "\t# Ordenação e listagem de Rankeamento\n",
        "\tdef rank(self, words, docs):\n",
        "\t\tif (len(docs) <= 1):\n",
        "\t\t\treturn list(docs)\n",
        "\n",
        "\t\tdef rank_sort(words):\t\n",
        "\t\t\tdef rank_sort_func(doc1, doc2):\t\n",
        "\t\t\t\tdoc1_aux = 0\n",
        "\t\t\t\tdoc2_aux = 0\n",
        "\t\t\t\tfor word in words:\n",
        "\t\t\t\t\tif (doc1 not in self.corpus[word]):\n",
        "\t\t\t\t\t\tif doc2 in self.corpus[word]:\n",
        "\t\t\t\t\t\t\tdoc2_aux += 1\n",
        "\t\t\t\t\telif (doc2 not in self.corpus[word]):\n",
        "\t\t\t\t\t\tif doc1 in self.corpus[word]:\n",
        "\t\t\t\t\t\t\tdoc1_aux += 1\n",
        "\t\t\t\t\telif (len(self.corpus[word][doc1]) > len(self.corpus[word][doc2])):\n",
        "\t\t\t\t\t\tdoc1_aux += 1\n",
        "\t\t\t\t\telse:\n",
        "\t\t\t\t\t\tdoc2_aux += 1\n",
        "\t\t\t\treturn doc2_aux - doc1_aux\n",
        "\t\t\treturn rank_sort_func\n",
        "\t\t\n",
        "\t\tranked = sorted(docs, key=functools.cmp_to_key(rank_sort(words)))\n",
        "\t\treturn ranked\n",
        "\n",
        "\t# Busca de palavra(s) nos textos\n",
        "\tdef search(self, query):\n",
        "\t\twords = [word for _, word in self.word_index(query) if word in self.corpus]\n",
        "\t\t\n",
        "\t\tresults = [set(self.corpus[word].keys()) for word in words]\n",
        "\t\tresults = functools.reduce(lambda x, y: x | y, results) if results else []\n",
        "\t\tranked_results = self.rank(words, results)\n",
        "\t\tprint(\"unranked_results:\",results)\n",
        "\t\treturn ranked_results"
      ],
      "metadata": {
        "id": "JVZ2X-sGtzLo"
      },
      "execution_count": 33,
      "outputs": []
    },
    {
      "cell_type": "markdown",
      "source": [
        "\n",
        "### Main para testagem das Buscas e Rankeamento:"
      ],
      "metadata": {
        "id": "g2euD3iS4OQ7"
      }
    },
    {
      "cell_type": "code",
      "execution_count": 37,
      "metadata": {
        "id": "3_I2nmW_cuBf",
        "colab": {
          "base_uri": "https://localhost:8080/"
        },
        "outputId": "b160db49-3f17-4ed9-9c78-c55f03d9356d"
      },
      "outputs": [
        {
          "output_type": "stream",
          "name": "stdout",
          "text": [
            "unranked_results: {2}\n",
            "[2]\n",
            "unranked_results: {2, 3}\n",
            "[2, 3]\n"
          ]
        }
      ],
      "source": [
        "def main():\n",
        "  path_corpus_file = './corpus.csv'\n",
        "\n",
        "  se = InMemSearchEngine(path_corpus_file)\n",
        "\n",
        "  query = 'food'\n",
        "\n",
        "  results = se.search(query)\n",
        "\n",
        "  print(results)\n",
        "\n",
        "  query = 'cooks food'\n",
        "\n",
        "  results = se.search(query)\n",
        "\n",
        "  print(results)\n",
        "\n",
        "main()"
      ]
    },
    {
      "cell_type": "markdown",
      "source": [
        "### Teste de ordem e/ou proximidade entre as palavras (em desenvolvimento):"
      ],
      "metadata": {
        "id": "V4DrRhTRnIll"
      }
    },
    {
      "cell_type": "code",
      "source": [
        "se.corpus"
      ],
      "metadata": {
        "colab": {
          "base_uri": "https://localhost:8080/"
        },
        "id": "XisqfI-unHqp",
        "outputId": "365f9836-88a9-4073-8f99-65197af6f520"
      },
      "execution_count": 35,
      "outputs": [
        {
          "output_type": "execute_result",
          "data": {
            "text/plain": [
              "{'ahead': {3: [609]},\n",
              " 'also': {2: [288]},\n",
              " 'alway': {2: [667]},\n",
              " 'art': {5: [100, 407, 495]},\n",
              " 'ate': {3: [619]},\n",
              " 'backpack': {5: [168]},\n",
              " 'base': {1: [283]},\n",
              " 'beach': {4: [50, 69, 93]},\n",
              " 'beauti': {1: [535], 4: [159]},\n",
              " 'becaus': {1: [240]},\n",
              " 'befor': {1: [347]},\n",
              " 'best': {2: [417]},\n",
              " 'bibl': {1: [71, 426]},\n",
              " 'big': {2: [156], 4: [344], 5: [164]},\n",
              " 'board': {2: [628]},\n",
              " 'book': {5: [185]},\n",
              " 'born': {2: [84]},\n",
              " 'bowl': {3: [213]},\n",
              " 'brother': {2: [49, 173, 497]},\n",
              " 'call': {4: [78]},\n",
              " 'came': {2: [312]},\n",
              " 'chair': {3: [577]},\n",
              " 'class': {5: [222, 398, 519, 536, 559, 718]},\n",
              " 'classic': {1: [46]},\n",
              " 'classmat': {5: [632]},\n",
              " 'cook': {2: [407, 574],\n",
              "  3: [308,\n",
              "   321,\n",
              "   359,\n",
              "   813,\n",
              "   819,\n",
              "   825,\n",
              "   831,\n",
              "   837,\n",
              "   843,\n",
              "   849,\n",
              "   855,\n",
              "   861,\n",
              "   867,\n",
              "   873,\n",
              "   879]},\n",
              " 'cours': {1: [358]},\n",
              " 'crack': {3: [189]},\n",
              " 'crayon': {5: [435]},\n",
              " 'damp': {3: [746]},\n",
              " 'day': {3: [605], 5: [27, 86]},\n",
              " 'definit': {1: [114]},\n",
              " 'dine': {3: [455]},\n",
              " 'dishwash': {3: [687]},\n",
              " 'dolphin': {4: [248]},\n",
              " 'draw': {5: [415]},\n",
              " 'egg': {3: [59, 201, 234, 303, 411, 500, 627]},\n",
              " 'emerson': {4: [85]},\n",
              " 'english': {1: [33, 207, 252, 413, 495], 5: [91, 231, 281]},\n",
              " 'everi': {4: [0, 282], 5: [21]},\n",
              " 'exampl': {1: [437]},\n",
              " 'explan': {1: [130]},\n",
              " 'express': {1: [527]},\n",
              " 'famili': {2: [431, 702]},\n",
              " 'famou': {1: [17]},\n",
              " 'father': {2: [98]},\n",
              " 'favorit': {4: [60], 5: [510]},\n",
              " 'fifteen': {4: [336]},\n",
              " 'figur': {5: [591]},\n",
              " 'final': {3: [752]},\n",
              " 'first': {5: [216]},\n",
              " 'florida': {4: [20]},\n",
              " 'food': {2: [422]},\n",
              " 'found': {4: [330]},\n",
              " 'friend': {5: [676]},\n",
              " 'full': {5: [177]},\n",
              " 'fun': {2: [649], 3: [808], 4: [475, 479, 483], 5: [739, 743]},\n",
              " 'game': {2: [634]},\n",
              " 'get': {5: [610]},\n",
              " 'girl': {2: [245]},\n",
              " 'go': {2: [520], 4: [14, 40, 221], 5: [68]},\n",
              " 'goe': {5: [6]},\n",
              " 'good': {2: [681], 3: [656], 4: [503], 5: [315, 375]},\n",
              " 'got': {3: [46, 733]},\n",
              " 'grandmoth': {2: [276, 587]},\n",
              " 'grandpar': {1: [328]},\n",
              " 'great': {1: [301, 308, 315, 322]},\n",
              " 'grown': {2: [362]},\n",
              " 'gym': {5: [127]},\n",
              " 'ha': {2: [358], 5: [47]},\n",
              " 'hard': {2: [206], 4: [449], 5: [573]},\n",
              " 'heard': {3: [348]},\n",
              " 'heat': {3: [144]},\n",
              " 'help': {1: [146]},\n",
              " 'hi': {3: [496], 5: [145, 212, 277, 389, 506, 526, 628, 672]},\n",
              " 'histori': {5: [136]},\n",
              " 'hope': {4: [550]},\n",
              " 'hospit': {2: [160]},\n",
              " 'hot': {3: [270]},\n",
              " 'hous': {2: [12]},\n",
              " 'hungri': {3: [9]},\n",
              " 'import': {2: [446]},\n",
              " 'itali': {2: [322]},\n",
              " 'jack': {3: [0, 398, 474, 792]},\n",
              " 'kind': {2: [267]},\n",
              " 'kitchen': {3: [34]},\n",
              " 'know': {5: [339]},\n",
              " 'known': {1: [486]},\n",
              " 'kyle': {5: [684]},\n",
              " 'larg': {3: [564]},\n",
              " 'last': {2: [89], 4: [355]},\n",
              " 'laugh': {2: [657]},\n",
              " 'learn': {4: [428]},\n",
              " 'like': {1: [62], 2: [512, 565], 4: [32, 172], 5: [247, 489, 659]},\n",
              " 'live': {2: [2, 293]},\n",
              " 'long': {2: [526], 4: [111]},\n",
              " 'look': {3: [485, 511], 4: [299]},\n",
              " 'lot': {2: [469], 5: [645]},\n",
              " 'love': {2: [694], 3: [479]},\n",
              " 'luca': {5: [0, 205, 333, 483, 582, 701]},\n",
              " 'lunch': {5: [195]},\n",
              " 'make': {4: [180]},\n",
              " 'mani': {1: [514], 5: [51]},\n",
              " 'mathemat': {2: [113], 5: [114]},\n",
              " 'mean': {5: [345]},\n",
              " 'minut': {3: [336]},\n",
              " 'morn': {4: [288]},\n",
              " 'mother': {2: [133], 5: [149]},\n",
              " 'mountain': {2: [27, 544]},\n",
              " 'much': {2: [714], 4: [470], 5: [271]},\n",
              " 'near': {2: [18]},\n",
              " 'nervou': {2: [237]},\n",
              " 'next': {3: [121, 392, 786], 5: [393]},\n",
              " 'nurs': {2: [145]},\n",
              " 'oil': {3: [82, 164, 387]},\n",
              " 'old': {1: [194], 2: [349, 368]},\n",
              " 'one': {2: [62]},\n",
              " 'origin': {1: [391]},\n",
              " 'pack': {5: [156]},\n",
              " 'palm': {4: [136]},\n",
              " 'pan': {3: [725]},\n",
              " 'paper': {5: [424]},\n",
              " 'pencil': {5: [447]},\n",
              " 'place': {3: [90, 431], 4: [390]},\n",
              " 'plate': {3: [421, 442, 538, 676]},\n",
              " 'play': {2: [623]},\n",
              " 'pop': {3: [373]},\n",
              " 'pour': {3: [153, 249]},\n",
              " 'pretti': {3: [518]},\n",
              " 'pupil': {5: [320]},\n",
              " 'put': {3: [403], 4: [368]},\n",
              " 'room': {3: [462], 4: [402]},\n",
              " 'ruler': {5: [476]},\n",
              " 'sailboat': {4: [211]},\n",
              " 'sand': {4: [127, 322]},\n",
              " 'sandcastl': {4: [185]},\n",
              " 'sat': {3: [548]},\n",
              " 'say': {4: [520], 5: [297]},\n",
              " 'school': {2: [214], 5: [14, 79]},\n",
              " 'scienc': {5: [105, 545, 710]},\n",
              " 'shakespear': {1: [80]},\n",
              " 'shell': {4: [308, 348]},\n",
              " 'short': {1: [10]},\n",
              " 'sister': {2: [66, 225, 558], 4: [491]},\n",
              " 'skillet': {3: [99, 177, 274]},\n",
              " 'smart': {2: [191]},\n",
              " 'soap': {3: [699]},\n",
              " 'soft': {4: [122]},\n",
              " 'sometim': {4: [228], 5: [459]},\n",
              " 'sourc': {1: [54]},\n",
              " 'speak': {1: [268]},\n",
              " 'special': {4: [382]},\n",
              " 'spoke': {1: [341]},\n",
              " 'spong': {3: [739]},\n",
              " 'spoon': {3: [639]},\n",
              " 'still': {2: [384]},\n",
              " 'stir': {3: [222]},\n",
              " 'stove': {3: [114]},\n",
              " 'strong': {2: [395]},\n",
              " 'student': {5: [380]},\n",
              " 'style': {1: [198]},\n",
              " 'subject': {5: [56]},\n",
              " 'surf': {4: [437, 457]},\n",
              " 'surfer': {4: [508]},\n",
              " 'tabl': {3: [467, 779]},\n",
              " 'teach': {2: [105], 4: [538]},\n",
              " 'teacher': {5: [258, 289]},\n",
              " 'text': {1: [24, 98, 170, 380]},\n",
              " 'thi': {4: [408], 5: [554]},\n",
              " 'thing': {2: [477]},\n",
              " 'think': {5: [360]},\n",
              " 'third': {5: [530]},\n",
              " 'thought': {1: [545], 3: [587]},\n",
              " 'time': {2: [686]},\n",
              " 'today': {1: [274, 503]},\n",
              " 'togeth': {2: [484, 640]},\n",
              " 'took': {3: [68]},\n",
              " 'translat': {1: [451]},\n",
              " 'tree': {4: [141]},\n",
              " 'tri': {1: [216]},\n",
              " 'turn': {3: [130]},\n",
              " 'tv': {3: [805]},\n",
              " 'two': {2: [45, 339], 3: [332]},\n",
              " 'understand': {1: [223]},\n",
              " 'us': {2: [304]},\n",
              " 'use': {5: [469]},\n",
              " 'veri': {2: [186, 262, 390, 441, 709], 4: [106, 154], 5: [266, 568]},\n",
              " 'wa': {2: [80, 335], 3: [5]},\n",
              " 'wait': {3: [286]},\n",
              " 'walk': {2: [531], 3: [20]},\n",
              " 'want': {4: [420]},\n",
              " 'wash': {3: [665, 714]},\n",
              " 'watch': {3: [797], 4: [201]},\n",
              " 'water': {4: [275]},\n",
              " 'week': {5: [38]},\n",
              " 'weekend': {2: [607]},\n",
              " 'well': {1: [481]},\n",
              " 'whale': {4: [261]},\n",
              " 'white': {3: [532]},\n",
              " 'wipe': {3: [764]},\n",
              " 'wooden': {3: [570]},\n",
              " 'word': {1: [109]},\n",
              " 'work': {2: [201], 5: [618, 690]},\n",
              " 'written': {1: [180, 402]},\n",
              " 'year': {2: [343], 4: [6, 360, 413]}}"
            ]
          },
          "metadata": {},
          "execution_count": 35
        }
      ]
    }
  ]
}