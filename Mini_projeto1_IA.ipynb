{
  "nbformat": 4,
  "nbformat_minor": 0,
  "metadata": {
    "colab": {
      "name": "Mini-projeto1.ipynb",
      "provenance": [],
      "collapsed_sections": [],
      "toc_visible": true,
      "include_colab_link": true
    },
    "kernelspec": {
      "name": "python3",
      "display_name": "Python 3"
    },
    "language_info": {
      "name": "python"
    }
  },
  "cells": [
    {
      "cell_type": "markdown",
      "metadata": {
        "id": "view-in-github",
        "colab_type": "text"
      },
      "source": [
        "<a href=\"https://colab.research.google.com/github/ManoMax/google-collabs/blob/main/Mini_projeto1_IA.ipynb\" target=\"_parent\"><img src=\"https://colab.research.google.com/assets/colab-badge.svg\" alt=\"Open In Colab\"/></a>"
      ]
    },
    {
      "cell_type": "markdown",
      "source": [
        "# Miniprojeto I - Inteligência Artificial\n",
        "Integrantes do grupo:\n",
        "* Dante Costa - dante.costa@ccc.ufcg.edu.br\n",
        "* Gabriel Matos - gabriel.matos@ccc.ufcg.edu.br\n",
        "* Gabriel Nascimento - gabriel.nascimento.santos@ccc.ufcg.edu.br\n",
        "* Gabryelle Soares - gabryelle.almeida@ccc.ufcg.edu.br\n",
        "* Kaio Araujo - kario.araujo@ccc.ufcg.edu.br"
      ],
      "metadata": {
        "id": "F6eBhVTt9j3o"
      }
    },
    {
      "cell_type": "markdown",
      "source": [
        "O artigo _Evolutionary Heuristic A* Search: Heuristic Function Optimization via Genetic Algorithm_ propõe um novo método denominado Busca Heurística A* Evolucionária (EHA\\*) que tem o intuito de minimizar o esforço no projeto de funções heurísticas via Algoritmos Genéticos. Este notebook conta com a implementação do algoritmo A* e a sua aplicação em um dos problemas representados no artigo, sendo este o _Sliding Tile Puzzle_."
      ],
      "metadata": {
        "id": "FSILybm19-AY"
      }
    },
    {
      "cell_type": "markdown",
      "source": [
        "## Representação de estados"
      ],
      "metadata": {
        "id": "WJs7CmI_fT5b"
      }
    },
    {
      "cell_type": "markdown",
      "source": [
        "Considerando que o tabuleiro é de tamanho 4x4 para o Sliding Tiles Puzzle, temos 4 arrays para cada linha do tabuleiro com números de 0 a 15"
      ],
      "metadata": {
        "id": "FWDVdJnaeRs_"
      }
    },
    {
      "cell_type": "code",
      "source": [
        "def solvedBoard(n):\n",
        "    board = []\n",
        "    j = 0\n",
        "    for i in range(0, n*n, n):\n",
        "        board.append(list(range(i, i+n)))\n",
        "        \n",
        "    return board\n",
        "\n",
        "solvedBoard(4)"
      ],
      "metadata": {
        "colab": {
          "base_uri": "https://localhost:8080/"
        },
        "id": "qvsj-CIBqP8H",
        "outputId": "bb885118-c39c-4168-e030-ae49a70ea5a2"
      },
      "execution_count": null,
      "outputs": [
        {
          "output_type": "execute_result",
          "data": {
            "text/plain": [
              "[[0, 1, 2, 3], [4, 5, 6, 7], [8, 9, 10, 11], [12, 13, 14, 15]]"
            ]
          },
          "metadata": {},
          "execution_count": 1
        }
      ]
    },
    {
      "cell_type": "markdown",
      "source": [
        "## Classe NodePuzzle"
      ],
      "metadata": {
        "id": "XPerJPxQ4VXT"
      }
    },
    {
      "cell_type": "code",
      "source": [
        "class NodePuzzle:\n",
        "    def __init__(self, state, dimensions=None, parentNode=None, childNodes=[], gcost=0, totalCost=None):\n",
        "        # Estado do tabuleiro com as listas\n",
        "        self.state = state\n",
        "         # Dimensão NxN onde N = número de linhas = número de colunas\n",
        "        self.dimensions = dimensions\n",
        "        # Referência para o nó pai\n",
        "        self.parentNode = parentNode\n",
        "        # Lista com os nós filhos\n",
        "        self.childNodes = childNodes\n",
        "        # O quanto esse nó vai estar longe do inicial (G)\n",
        "        self.gcost = gcost\n",
        "        #Custo total (G+H)\n",
        "        self.totalCost = None\n",
        "    \n",
        "    def __str__(self):\n",
        "        for row in self.state:\n",
        "            print (''.join(str(row)))\n",
        "\n",
        "    # Compara o tabuleiro de resposta esperado em sua respectiva dimensão\n",
        "    def isSolved(self):\n",
        "        return self.state == solvedBoard(self.dimensions)\n",
        "\n",
        "    # Função que verifica se é possível resolver        \n",
        "    def isSolvable(self):\n",
        "        inversions = 0\n",
        "        all_numbers = [number for row in self.state for number in row]\n",
        "        all_numbers.remove(0)\n",
        "\n",
        "        # Contagem de inversão tirando o 0 porque ele é a representação do vazio\n",
        "        for i in range(len(all_numbers)): \n",
        "            for j in range(i + 1, len(all_numbers)): \n",
        "                if (all_numbers[i] > all_numbers[j]): \n",
        "                    inversions += 1\n",
        "\n",
        "        if (len(self.state) % 2 != 0 and inversions % 2 == 0) or (len(self.state) % 2 == 0 and inversions % 2 != 0):\n",
        "            return True\n",
        "            \n",
        "        return False        \n",
        "\n",
        "    # Verifica as dimensões e se o tabuleiro é efetivamente um quadrado (condição do jogo)\n",
        "    def getDimensions(self):\n",
        "        nRows = len(self.state)\n",
        "        for row in self.state:\n",
        "            if len(row) != nRows:\n",
        "                return False\n",
        "            else:\n",
        "                self.dimensions = nRows\n",
        "    \n",
        "    # Verifica se não tem nenhum número repetido\n",
        "    def notRepeatedNumbers(self):\n",
        "        unique = []\n",
        "        for row in self.state:\n",
        "            for number in row:\n",
        "                if number not in unique:\n",
        "                    unique.append(number)\n",
        "                else:\n",
        "                    return False\n",
        "        return True"
      ],
      "metadata": {
        "id": "fXtx-rXSkOve"
      },
      "execution_count": null,
      "outputs": []
    },
    {
      "cell_type": "markdown",
      "source": [
        "## Definição das Heurísticas"
      ],
      "metadata": {
        "id": "ujQ12IGQriSV"
      }
    },
    {
      "cell_type": "code",
      "source": [
        "# Colisões lineares\n",
        "\n",
        "def h1(state):\n",
        "    heuristic = 0\n",
        "    solved_board = solvedBoard(len(state))\n",
        "\n",
        "    transposed_state = list(map(list, zip(*state)))\n",
        "    transposed_solved = list(map(list, zip(*solved_board)))\n",
        "    for i in range(len(state)):\n",
        "        for j in range(len(state)):\n",
        "            if state[i][j] != solved_board[i][j] and state[i][j] in solved_board[i] and state[i][j] != 0:\n",
        "                heuristic += 1\n",
        "            if transposed_state[i][j] != transposed_solved[i][j] and transposed_state[i][j] in transposed_solved[i] and transposed_state[i][j] != 0:\n",
        "                heuristic += 1\n",
        "\n",
        "    return heuristic"
      ],
      "metadata": {
        "id": "3AXDYUrAr-qN"
      },
      "execution_count": null,
      "outputs": []
    },
    {
      "cell_type": "code",
      "source": [
        "# Distância de manhattan\n",
        "\n",
        "def h2(state):\n",
        "    heuristic = 0\n",
        "    solved_board = solvedBoard(len(state))\n",
        "\n",
        "    for i in range(len(state)):\n",
        "        for j in range(len(state)):\n",
        "            for k in range(len(solved_board)):\n",
        "                for l in range(len(solved_board)):\n",
        "                    if state[i][j] == solved_board[k][l] and state[i][j] != 0:\n",
        "                        heuristic += abs(i-k) + abs(j-l)\n",
        "                        break\n",
        "\n",
        "    return heuristic"
      ],
      "metadata": {
        "id": "yZRjNxbwsEHG"
      },
      "execution_count": null,
      "outputs": []
    },
    {
      "cell_type": "code",
      "source": [
        "# Distância Euclidiana\n",
        "\n",
        "def h3(state):\n",
        "    heuristic = 0\n",
        "    solved_board = solvedBoard(len(state))\n",
        "    \n",
        "    for row in range(len(state)):\n",
        "        for col in range(len(state[0])):\n",
        "            pos = get_pos(solved_board, state[row][col])\n",
        "            heuristic += abs(row - pos[0]) + abs(col - pos[1])\n",
        "            \n",
        "    return heuristic\n",
        "\n",
        "def get_pos(state, element):\n",
        "    for row in range(len(state)):\n",
        "        if element in state[row]:\n",
        "            return (row, state[row].index(element))"
      ],
      "metadata": {
        "id": "dvfCEIdmJDix"
      },
      "execution_count": null,
      "outputs": []
    },
    {
      "cell_type": "code",
      "source": [
        "heuristics = [h1, h2, h3]"
      ],
      "metadata": {
        "id": "Tj9IVAlYtHyF"
      },
      "execution_count": null,
      "outputs": []
    },
    {
      "cell_type": "code",
      "source": [
        "#multiweight ideia inicial(Heurística combinando as outras) descartar\n",
        "import numpy as np\n",
        "\n",
        "weights=[1,1,1]\n",
        "\n",
        "def multi(state, weights=weights):\n",
        "    return state + sum([np.multiply(h(state), w) for h, w in zip(heuristics, weights)])\n",
        "    #solved_board = solvedBoard(len(state))\n",
        "    #return h1*weights[0]+h2*weights[1]+h3(state)*weights[2]"
      ],
      "metadata": {
        "id": "KbYTuV1aaklb"
      },
      "execution_count": null,
      "outputs": []
    },
    {
      "cell_type": "code",
      "source": [
        "def multiweight(state):\n",
        "    ##Manhattan\n",
        "    h1 = 0\n",
        "    ##Misplaced Tiles\n",
        "    h2 = 0\n",
        "    ##Euclidean\n",
        "    h3 = 0\n",
        "    solved_board = solvedBoard(len(state))\n",
        "    \n",
        "    ##Manhattan\n",
        "    for i in range(len(state)):\n",
        "        for j in range(len(state)):\n",
        "            for k in range(len(solved_board)):\n",
        "                for l in range(len(solved_board)):\n",
        "                    if state[i][j] == solved_board[k][l] and state[i][j] != 0:\n",
        "                        h1 += abs(i-k) + abs(j-l)\n",
        "                        break\n",
        "    \n",
        "    ##Colisões lineares\n",
        "    transposed_state = list(map(list, zip(*state)))\n",
        "    transposed_solved = list(map(list, zip(*solved_board)))\n",
        "    for i in range(len(state)):\n",
        "        for j in range(len(state)):\n",
        "            if state[i][j] != solved_board[i][j] and state[i][j] in solved_board[i] and state[i][j] != 0:\n",
        "                h2 += 1\n",
        "            if transposed_state[i][j] != transposed_solved[i][j] and transposed_state[i][j] in transposed_solved[i] and transposed_state[i][j] != 0:\n",
        "                h2 += 1\n",
        "    ## distancia euclidiana\n",
        "    for row in range(len(state)):\n",
        "        for col in range(len(state[0])):\n",
        "            pos = get_pos(solved_board, state[row][col])\n",
        "            h3 += abs(row - pos[0]) + abs(col - pos[1])\n",
        "    \n",
        "    \n",
        "    return 1*h1 + 1*h2 + 1*h3"
      ],
      "metadata": {
        "id": "A2mGL1ZsPZD-"
      },
      "execution_count": null,
      "outputs": []
    },
    {
      "cell_type": "markdown",
      "source": [
        "## Novos tabuleiros"
      ],
      "metadata": {
        "id": "E0oMzbUworXd"
      }
    },
    {
      "cell_type": "markdown",
      "source": [
        "As quatro funções abaixo servem para mover o vazio/zero a partir de um estado do tabuleiro e fazer uma troca entre o 0 e o que for adjacente:"
      ],
      "metadata": {
        "id": "2EY6WHQe7Omy"
      }
    },
    {
      "cell_type": "code",
      "source": [
        "def moveLeft(state, empty):\n",
        "    state[empty[0]][empty[1]], state[empty[0]][empty[1]-1] = state[empty[0]][empty[1]-1], state[empty[0]][empty[1]]\n",
        "\n",
        "def moveRight(state, empty):\n",
        "    state[empty[0]][empty[1]], state[empty[0]][empty[1]+1] = state[empty[0]][empty[1]+1], state[empty[0]][empty[1]]\n",
        "    \n",
        "def moveTop(state, empty):\n",
        "    state[empty[0]][empty[1]], state[empty[0]-1][empty[1]] = state[empty[0]-1][empty[1]], state[empty[0]][empty[1]]\n",
        "\n",
        "def moveBottom(state, empty):\n",
        "    state[empty[0]][empty[1]], state[empty[0]+1][empty[1]] = state[empty[0]+1][empty[1]], state[empty[0]][empty[1]]"
      ],
      "metadata": {
        "id": "a9ZLt1K40Dfr"
      },
      "execution_count": null,
      "outputs": []
    },
    {
      "cell_type": "code",
      "source": [
        "# Validação nos cantos do tabuleiro\n",
        "# 4 casos\n",
        "\n",
        "import copy\n",
        "\n",
        "def findChildNodes(Node):\n",
        "        Node.childNodes = []\n",
        "        n = len(Node.state)-1\n",
        "        for i in range(n+1):\n",
        "            for j in range(n+1):\n",
        "                if Node.state[i][j] == 0:\n",
        "                    zero_position = (i, j)\n",
        "\n",
        "        possible_board1 = copy.deepcopy(Node.state)\n",
        "\n",
        "        # Quina da esquerda em cima\n",
        "        if (zero_position[0] == 0) and (zero_position[1] == 0):\n",
        "            moveRight(possible_board1, zero_position)\n",
        "            addPuzzle(Node, possible_board1)\n",
        "\n",
        "            possible_board2 = copy.deepcopy(Node.state)\n",
        "            moveBottom(possible_board2, zero_position)\n",
        "            addPuzzle(Node, possible_board2)\n",
        "\n",
        "        # Quina da direita em cima\n",
        "        elif (zero_position[0] == 0) and (zero_position[1] == n):\n",
        "            moveBottom(possible_board1, zero_position)\n",
        "            addPuzzle(Node, possible_board1)\n",
        "\n",
        "            possible_board2 = copy.deepcopy(Node.state)\n",
        "            moveLeft(possible_board2, zero_position)\n",
        "            addPuzzle(Node, possible_board2)\n",
        "\n",
        "        # Quina da esquerda embaixo\n",
        "        elif (zero_position[0] == n) and (zero_position[1] == 0):\n",
        "            moveTop(possible_board1, zero_position)\n",
        "            addPuzzle(Node, possible_board1)\n",
        "\n",
        "            possible_board2 = copy.deepcopy(Node.state)\n",
        "            moveRight(possible_board2, zero_position)\n",
        "            addPuzzle(Node, possible_board2)\n",
        "\n",
        "        # Quina da direita embaixo\n",
        "        elif (zero_position[0] == n) and (zero_position[1] == n):\n",
        "            moveTop(possible_board1, zero_position)\n",
        "            addPuzzle(Node, possible_board1)\n",
        "\n",
        "            possible_board2 = copy.deepcopy(Node.state)\n",
        "            moveLeft(possible_board2, zero_position)\n",
        "            addPuzzle(Node, possible_board2)\n",
        "\n",
        "        # Parede de cima sem quina\n",
        "        elif (zero_position[0] == 0) and (zero_position[1] != 0) and (zero_position[1] != n):\n",
        "            moveLeft(possible_board1, zero_position)\n",
        "            addPuzzle(Node, possible_board1)\n",
        "\n",
        "            possible_board2 = copy.deepcopy(Node.state)\n",
        "            moveRight(possible_board2, zero_position)\n",
        "            addPuzzle(Node, possible_board2)\n",
        "\n",
        "            possible_board3 = copy.deepcopy(Node.state)\n",
        "            moveBottom(possible_board3, zero_position)\n",
        "            addPuzzle(Node, possible_board3)\n",
        "\n",
        "        # Parede da esquerda sem quina\n",
        "        elif (zero_position[1] == 0) and (zero_position[0] != 0) and (zero_position[0] != n):\n",
        "            moveRight(possible_board1, zero_position)\n",
        "            addPuzzle(Node, possible_board1)\n",
        "\n",
        "            possible_board2 = copy.deepcopy(Node.state)\n",
        "            moveTop(possible_board2, zero_position)\n",
        "            addPuzzle(Node, possible_board2)\n",
        "\n",
        "            possible_board3 = copy.deepcopy(Node.state)\n",
        "            moveBottom(possible_board3, zero_position)\n",
        "            addPuzzle(Node, possible_board3)\n",
        "\n",
        "        # Parede da direita sem quina\n",
        "        elif (zero_position[1] == n) and (zero_position[0] != 0) and (zero_position[0] != n):\n",
        "            moveLeft(possible_board1, zero_position)\n",
        "            addPuzzle(Node, possible_board1)\n",
        "\n",
        "            possible_board2 = copy.deepcopy(Node.state)\n",
        "            moveTop(possible_board2, zero_position)\n",
        "            addPuzzle(Node, possible_board2)\n",
        "\n",
        "            possible_board3 = copy.deepcopy(Node.state)\n",
        "            moveBottom(possible_board3, zero_position)\n",
        "            addPuzzle(Node, possible_board3)\n",
        "\n",
        "        # Parede debaixo sem quina\n",
        "        elif (zero_position[0] == n) and (zero_position[1] != 0) and (zero_position[1] != n):\n",
        "            moveLeft(possible_board1, zero_position)\n",
        "            addPuzzle(Node, possible_board1)\n",
        "\n",
        "            possible_board2 = copy.deepcopy(Node.state)\n",
        "            moveTop(possible_board2, zero_position)\n",
        "            addPuzzle(Node, possible_board2)\n",
        "\n",
        "            possible_board3 = copy.deepcopy(Node.state)\n",
        "            moveRight(possible_board3, zero_position)\n",
        "            addPuzzle(Node, possible_board3)\n",
        "                \n",
        "        # Fora das paredes\n",
        "        elif (zero_position[0] != 0) and (zero_position[0] != n) and (zero_position[1] != 0) and (zero_position[1] != n):\n",
        "            moveLeft(possible_board1, zero_position)\n",
        "            addPuzzle(Node, possible_board1)\n",
        "\n",
        "            possible_board2 = copy.deepcopy(Node.state)\n",
        "            moveTop(possible_board2, zero_position)\n",
        "            addPuzzle(Node, possible_board2)\n",
        "\n",
        "            possible_board3 = copy.deepcopy(Node.state)\n",
        "            moveRight(possible_board3, zero_position)\n",
        "            addPuzzle(Node, possible_board3)\n",
        "\n",
        "            possible_board4 = copy.deepcopy(Node.state)\n",
        "            moveBottom(possible_board4, zero_position)\n",
        "            addPuzzle(Node, possible_board4)\n",
        "\n",
        "# Função auxiliar\n",
        "def addPuzzle(Node, board):\n",
        "\t  if not(Node.parentNode) or board != Node.parentNode.state:\n",
        "\t\t    Node.childNodes.append(NodePuzzle(board))"
      ],
      "metadata": {
        "id": "2yqo3H25g4Y7"
      },
      "execution_count": null,
      "outputs": []
    },
    {
      "cell_type": "markdown",
      "source": [
        "## A*"
      ],
      "metadata": {
        "id": "VEr-LZKb0H9V"
      }
    },
    {
      "cell_type": "code",
      "source": [
        "# Setar o f como um valor arbitrariamente grande\n",
        "import math \n",
        "\n",
        "# Recebe o estado inicial do sliding tile puzzle e um conjunto de heurísticas\n",
        "def aStarSearch(state, heuristic):\n",
        "    \n",
        "    # Número de passos para resolver, não vale o primeiro nó (fitness function)\n",
        "    steps = 0\n",
        "    # Nós expandidos para chegar na solução\n",
        "    exp = 0\n",
        "    # Tamanho da fronteira na busca\n",
        "    max_frontier = 0\n",
        "    # Caminho ótimo\n",
        "    opt_path = []\n",
        "    # \"Debug\" para erro, se não for resolvível = 2  e se a dimensão ou a montagem for errada = 1\n",
        "    err = 0\n",
        "    # Nós já explorados\n",
        "    explored_nodes = []\n",
        "    # Nós a serem explorados\n",
        "    to_be_explored = []\n",
        "    \n",
        "    # Nó inicial a partir do estado do tabuleiro, como é primeiro o g tem que ser 0\n",
        "    currentNode = NodePuzzle(state, gcost = 0)\n",
        "\n",
        "    # Se as dimensões estiverem erradas ou os números estiverem incorretos, retorna err=-1\n",
        "    if currentNode.getDimensions() == False or currentNode.notRepeatedNumbers() == False:\n",
        "        err = -1\n",
        "        return (steps, exp, max_frontier, opt_path, err)\n",
        "\n",
        "    # Retorna um erro se a partir do nó atual não for possível chegar na solução\n",
        "    if currentNode.isSolvable() == False:\n",
        "        err = -2\n",
        "        return (steps, exp, max_frontier, opt_path, err)\n",
        "    \n",
        "    # Rodar até chegar no estado em que está resolvido\n",
        "    while not(currentNode.isSolved()):\n",
        "        #Adicionar o nó aos que foram explorados\n",
        "        explored_nodes.append(currentNode)\n",
        "        # Achar os nós filhos\n",
        "        findChildNodes(currentNode)\n",
        "        # Guardar pai, o custo G e o custo total de cada nó\n",
        "        for child in currentNode.childNodes:\n",
        "            child.parentNode = currentNode\n",
        "            child.gcost = child.parentNode.gcost + 1\n",
        "            child.totalCost = child.gcost + heuristic(child.state) #peso*heuristica de cada\n",
        "            # child.totalCost = child.gcost + sum([h(child.state) * w for h, w in zip(heuristics, weight)])\n",
        "            ## heuristics[0](child.state)*weight1+heuristics[1](child.state)*weight2+heuristics[2](child.state)*weight3\n",
        "            # Se o filho não foi explorado, entra na lista de nós a serem explorados\n",
        "            if (child not in explored_nodes):\n",
        "                to_be_explored.append(child)\n",
        "        \n",
        "        #Se a fronteira passa do máximo adicionando nós filhos, max é o tamanho da lista dos nós a serem explorados\n",
        "        if len(to_be_explored) > max_frontier:\n",
        "            max_frontier = len(to_be_explored)\n",
        "        \n",
        "        #Achar o menor f na lista dos a serem explorados\n",
        "        lowest_f = math.inf\n",
        "        for node in to_be_explored:\n",
        "            if node.totalCost < lowest_f:\n",
        "                lowest_f = node.totalCost\n",
        "                bestNode = node\n",
        "        \n",
        "        # O próximo é o na fronteira com valor de f menor\n",
        "        currentNode = bestNode\n",
        "        # Remover o nó da fronteira\n",
        "        to_be_explored.remove(currentNode)\n",
        "        # Dimensão do nó atual\n",
        "        currentNode.getDimensions()\n",
        "        # Incrementar a contagem dos nós expandidos\n",
        "        exp += 1\n",
        "    \n",
        "    # Backtracking do filho ao pai até chegar no primeiro estado para achar o caminho ótimo\n",
        "    while currentNode.parentNode != None:\n",
        "        opt_path.insert(0,currentNode.state)\n",
        "        currentNode = currentNode.parentNode\n",
        "        steps += 1\n",
        "    opt_path.insert(0, currentNode.state)\n",
        "        \n",
        "        \n",
        "    return (steps, exp, max_frontier, opt_path, err)"
      ],
      "metadata": {
        "id": "1sbSE6nU0YkU"
      },
      "execution_count": null,
      "outputs": []
    },
    {
      "cell_type": "code",
      "source": [
        "## Geração de tabuleiros novos a partir de um resolvido\n",
        "import random\n",
        "def shuffle(n):\n",
        "  x=solvedBoard(n)\n",
        "  random.shuffle(x) \n",
        "  for sublist in x:\n",
        "    random.shuffle(sublist)      \n",
        "  return x\n",
        "shuffle(4)"
      ],
      "metadata": {
        "colab": {
          "base_uri": "https://localhost:8080/"
        },
        "id": "POo_OjNeu8EJ",
        "outputId": "dc9172fd-eddc-4943-9055-8e4a1380c424"
      },
      "execution_count": null,
      "outputs": [
        {
          "output_type": "execute_result",
          "data": {
            "text/plain": [
              "[[5, 4, 6, 7], [3, 0, 2, 1], [11, 9, 8, 10], [12, 13, 14, 15]]"
            ]
          },
          "metadata": {},
          "execution_count": 12
        }
      ]
    },
    {
      "cell_type": "code",
      "source": [
        "# Teste para a condição de valores únicos\n",
        "incorrect = [[0,1,2],[3,4,5],[5,6,7]]\n",
        "_,_,_,_,err = aStarSearch(incorrect, lambda state: 0)\n",
        "assert(err == -1)"
      ],
      "metadata": {
        "id": "UXddM35WGE06"
      },
      "execution_count": null,
      "outputs": []
    },
    {
      "cell_type": "code",
      "source": [
        "# Condição de não ser possível resolver\n",
        "unsolvable = [[7,5,6],[2,4,3],[8,1,0]]\n",
        "_,_,_,_,err = aStarSearch(unsolvable, lambda state: 0)\n",
        "assert(err == -2)"
      ],
      "metadata": {
        "id": "B3xIGfYGG9zJ"
      },
      "execution_count": null,
      "outputs": []
    },
    {
      "cell_type": "code",
      "source": [
        "working=shuffle(3)\n",
        "print(working)\n",
        "\n",
        "steps_multi, expansions_multi, _, _, _ = aStarSearch(working, multiweight)\n",
        "\n",
        "print(expansions_multi)"
      ],
      "metadata": {
        "id": "3GRx7C0gvlbo",
        "colab": {
          "base_uri": "https://localhost:8080/"
        },
        "outputId": "482dffee-acbd-4fd0-e98a-a4e62854bffc"
      },
      "execution_count": null,
      "outputs": [
        {
          "output_type": "stream",
          "name": "stdout",
          "text": [
            "[[8, 6, 7], [1, 0, 2], [4, 3, 5]]\n",
            "332\n"
          ]
        }
      ]
    },
    {
      "cell_type": "markdown",
      "source": [
        "Podemos usar como fitness as expansões de cada conjunto de pesos, visto que o peso em cada heurística influencia o número de expansões do multipeso."
      ],
      "metadata": {
        "id": "KucH6c6oVXld"
      }
    },
    {
      "cell_type": "code",
      "source": [
        "!pip install scikit-fuzzy"
      ],
      "metadata": {
        "colab": {
          "base_uri": "https://localhost:8080/"
        },
        "id": "07IGhY4gPNHj",
        "outputId": "a1b7f356-c595-4879-8f91-3ce3ef15a4af"
      },
      "execution_count": null,
      "outputs": [
        {
          "output_type": "stream",
          "name": "stdout",
          "text": [
            "Looking in indexes: https://pypi.org/simple, https://us-python.pkg.dev/colab-wheels/public/simple/\n",
            "Collecting scikit-fuzzy\n",
            "  Downloading scikit-fuzzy-0.4.2.tar.gz (993 kB)\n",
            "\u001b[K     |████████████████████████████████| 993 kB 5.0 MB/s \n",
            "\u001b[?25hRequirement already satisfied: numpy>=1.6.0 in /usr/local/lib/python3.7/dist-packages (from scikit-fuzzy) (1.21.6)\n",
            "Requirement already satisfied: scipy>=0.9.0 in /usr/local/lib/python3.7/dist-packages (from scikit-fuzzy) (1.7.3)\n",
            "Requirement already satisfied: networkx>=1.9.0 in /usr/local/lib/python3.7/dist-packages (from scikit-fuzzy) (2.6.3)\n",
            "Building wheels for collected packages: scikit-fuzzy\n",
            "  Building wheel for scikit-fuzzy (setup.py) ... \u001b[?25l\u001b[?25hdone\n",
            "  Created wheel for scikit-fuzzy: filename=scikit_fuzzy-0.4.2-py3-none-any.whl size=894089 sha256=d37717d3c4424c612fbe93078746463a4c840200c1d65d247a04084539eb4ea5\n",
            "  Stored in directory: /root/.cache/pip/wheels/d5/74/fc/38588a3d2e3f34f74588e6daa3aa5b0a322bd6f9420a707131\n",
            "Successfully built scikit-fuzzy\n",
            "Installing collected packages: scikit-fuzzy\n",
            "Successfully installed scikit-fuzzy-0.4.2\n"
          ]
        }
      ]
    },
    {
      "cell_type": "markdown",
      "source": [
        "# Discussão de resultados do A*(com e sem pesos)"
      ],
      "metadata": {
        "id": "YzIBenoW43gl"
      }
    },
    {
      "cell_type": "code",
      "source": [
        "import matplotlib.pyplot as plt\n",
        "\n",
        "working=shuffle(3)\n",
        "\n",
        "# steps_lin, expansions_lin, _, _, _ = aStarSearch(working, h1)\n",
        "steps_man, expansions_man, _, _, _ = aStarSearch(working, h2)\n",
        "steps_euclidean, expansions_euclidean, _, _, _ = aStarSearch(working, h3)\n",
        "steps_multi, expansions_multi, _, _, _ = aStarSearch(working, multiweight)\n",
        "print(steps_man,steps_euclidean,steps_multi)\n",
        "print(expansions_man,expansions_euclidean,expansions_multi)\n",
        "\n",
        "x = [steps_man,steps_euclidean,steps_multi]\n",
        "y = [expansions_man,expansions_euclidean,expansions_multi]\n",
        "\n",
        "color = np.random.rand(3)\n",
        "\n",
        "# Plotting a scatter plot using argument 'data'\n",
        "plt.scatter(x, y, c=color)\n",
        "\n",
        "# Labeling the plot and showing it\n",
        "plt.title('Heuristics')\n",
        "plt.ylabel('expensions')\n",
        "plt.xlabel('steps')\n",
        "plt.show()"
      ],
      "metadata": {
        "colab": {
          "base_uri": "https://localhost:8080/",
          "height": 330
        },
        "id": "d1KAck1iPL-x",
        "outputId": "ec2f3d73-b202-4bfa-f03d-44fc7e2ee0df"
      },
      "execution_count": null,
      "outputs": [
        {
          "output_type": "stream",
          "name": "stdout",
          "text": [
            "22 22 22\n",
            "4913 4621 1552\n"
          ]
        },
        {
          "output_type": "display_data",
          "data": {
            "text/plain": [
              "<Figure size 432x288 with 1 Axes>"
            ],
            "image/png": "[encoded data removed]"
          },
          "metadata": {
            "needs_background": "light"
          }
        }
      ]
    },
    {
      "cell_type": "markdown",
      "source": [
        "Comparando o multipeso com as outras heurísticas no gráfico acima(tabuleiro 3x3 para não demorar muito tempo rodando), podemos ver que há uma melhora no número de expansões, já que a combinação das heurísticas ainda que com peso igual já tornou o resultado melhor e ainda assim correto, dado que os steps seguem iguais. Para fazer como no artigo o EHA*, o objetivo agora é utilizar do algoritmo genético para fazer a calibragem de pesos entre as heurísticas por um número determinado de gerações ou se caso o algoritmo não evolua aconteça uma parada antes do final previsto, essas condições estão descritas na função main do problema. "
      ],
      "metadata": {
        "id": "ALQBeHwi5A9G"
      }
    },
    {
      "cell_type": "code",
      "source": [
        "# Teste de 4x4 vendo se as duas heurísticas batem e estão certas e teste de uma heurística dominar a outra(manhattan<=misplaced tiles)\n",
        "example = [[1,2,6,3],[0,9,5,7],[4,13,10,11],[8,12,14,15]]\n",
        "steps_misplaced, expansions_misplaced, _, _, _ = aStarSearch(example, heuristics[0])\n",
        "steps_manhattan, expansions_manhattan, _, _, _ = aStarSearch(example, heuristics[1])\n",
        "assert(expansions_manhattan <= expansions_misplaced)\n",
        "assert(steps_misplaced == steps_manhattan == 9)\n"
      ],
      "metadata": {
        "id": "eB2FdsW4I4B8"
      },
      "execution_count": null,
      "outputs": []
    },
    {
      "cell_type": "markdown",
      "source": [
        "# Testes de expansão com tabuleiros aleatórios e determinados"
      ],
      "metadata": {
        "id": "ufxCHQH876gi"
      }
    },
    {
      "cell_type": "code",
      "source": [
        "working=[[4, 3, 5], [2, 1, 0], [6, 7, 8]]\n",
        "steps_multi, expansions_multi, _, _, _ = aStarSearch(working, multiweight)\n",
        "print(expansions_multi)"
      ],
      "metadata": {
        "id": "qdnpMj99P-GA"
      },
      "execution_count": null,
      "outputs": []
    },
    {
      "cell_type": "code",
      "source": [
        "working=shuffle(3)\n",
        "print(working)\n",
        "steps_multi, expansions_multi, _, _, _ = aStarSearch(working, multiweight)\n",
        "print(expansions_multi)"
      ],
      "metadata": {
        "id": "L56-FnLjKBJN"
      },
      "execution_count": null,
      "outputs": []
    },
    {
      "cell_type": "markdown",
      "source": [
        "## Algoritmo Genético"
      ],
      "metadata": {
        "id": "x0jBtquRBIuV"
      }
    },
    {
      "cell_type": "markdown",
      "source": [
        "Importando as bibliotecas necessárias para a implementação do código"
      ],
      "metadata": {
        "id": "TN7xRd7c8oDU"
      }
    },
    {
      "cell_type": "code",
      "source": [
        "from numpy.random import default_rng\n",
        "import numpy as np"
      ],
      "metadata": {
        "id": "pjpSZ2A_GJIP"
      },
      "execution_count": null,
      "outputs": []
    },
    {
      "cell_type": "code",
      "source": [
        "POPULATION = []\n",
        "NEW_POPULATION = []\n",
        "score_generation = []\n",
        "score_points = []\n",
        "score = 0\n",
        "\n",
        "# Valores quaisquer\n",
        "CROSSOVER_RATE = 90\n",
        "MUTATION_RATE = 10\n",
        "length_population = 1000\n",
        "length_chromosome = 3\n",
        "\n",
        "good_number = 0"
      ],
      "metadata": {
        "id": "q1E3xfllC8tu"
      },
      "execution_count": null,
      "outputs": []
    },
    {
      "cell_type": "code",
      "source": [
        "# Representação do cromossomo\n",
        "class Chromosome:\n",
        "    score = 0\n",
        "  \n",
        "    # Pesos de cada heurística\n",
        "    #Colisões lineares\n",
        "    weight1 = 1\n",
        "    #Manhattan\n",
        "    weight2 = 1\n",
        "    #Distância euclidiana\n",
        "    weight3 = 1\n",
        "\n",
        "    def __init__(self, schema):\n",
        "        self.schema = schema\n",
        "  \n",
        "    def __str__(self):\n",
        "        toString = ''\n",
        "        for ind in self.schema:\n",
        "            toString += ind\n",
        "        return toString"
      ],
      "metadata": {
        "id": "lTE0jfmwBRmf"
      },
      "execution_count": null,
      "outputs": []
    },
    {
      "cell_type": "code",
      "source": [
        "# Fitness baseado no número de steps, quanto mais steps menor deve ser o peso, inverter colocando no denominador\n",
        "\n",
        "def fitness(steps):\n",
        "    return [1/step for step in steps]"
      ],
      "metadata": {
        "id": "q06NiGPbR5IH"
      },
      "execution_count": null,
      "outputs": []
    },
    {
      "cell_type": "code",
      "source": [
        "# Função de seleção\n",
        "\n",
        "def selection(population, new_population):\n",
        "    merged_list = []\n",
        "    merged_list.extend(population)\n",
        "    merged_list.extend(new_population)\n",
        "\n",
        "    merged_list.sort(key=lambda schema: schema.score, reverse=False)\n",
        "\n",
        "    return merged_list[:len(POPULATION)]"
      ],
      "metadata": {
        "id": "9S9LjicqBmQR"
      },
      "execution_count": null,
      "outputs": []
    },
    {
      "cell_type": "code",
      "source": [
        "# Função para crossover\n",
        "\n",
        "def crossover(population):\n",
        "    while len(NEW_POPULATION) < len(POPULATION):\n",
        "        father = population[np.random.randint(0, len(population))].schema\n",
        "        mother = population[np.random.randint(0, len(population))].schema\n",
        "        yes = np.random.randint(0, 100)\n",
        "\n",
        "        if father != mother and yes <= CROSSOVER_RATE:\n",
        "            child = []\n",
        "            cut = np.random.randint(1, len(father))\n",
        "            child.append(father[:cut] + mother[cut:])\n",
        "            child.append(mother[:cut] + father[cut:])\n",
        "            for downward in child: \n",
        "                NEW_POPULATION.append(Chromosome(downward))"
      ],
      "metadata": {
        "id": "eQZY_dsFCub1"
      },
      "execution_count": null,
      "outputs": []
    },
    {
      "cell_type": "code",
      "source": [
        "# Função de mutação\n",
        "\n",
        "def mutation(population):\n",
        "    array = []\n",
        "    rng = default_rng()\n",
        "    numbers = rng.choice(range(1, length_chromosome-1), size= 2, replace=False)\n",
        "  \n",
        "    for ind in population:\n",
        "        array_2 = []\n",
        "        yes = np.random.randint(0, 100)\n",
        "        if yes <= MUTATION_RATE:\n",
        "            for i in range(len(ind.schema)):\n",
        "                if i == int(numbers[0]):\n",
        "                    array_2.append(ind.schema[numbers[1]])\n",
        "                elif i == int(numbers[1]):\n",
        "                    array_2.append(ind.schema[numbers[0]])\n",
        "                else:\n",
        "                    array_2.append(ind.schema[i])\n",
        "            array.append(Chromosome(array_2))\n",
        "\n",
        "    return array"
      ],
      "metadata": {
        "id": "l782pYJ0F3eS"
      },
      "execution_count": null,
      "outputs": []
    },
    {
      "cell_type": "code",
      "source": [
        "def init_population(length_population):\n",
        "    random.seed()\n",
        "    POPULATION = [Chromosome() for _ in range(length_population)]"
      ],
      "metadata": {
        "id": "Sjc5vDP2DUT0"
      },
      "execution_count": null,
      "outputs": []
    },
    {
      "cell_type": "markdown",
      "source": [
        "# Iniciando o EHA*\n"
      ],
      "metadata": {
        "id": "2mKxmEQrZDGB"
      }
    },
    {
      "cell_type": "code",
      "source": [
        " # Modelo Base de EHA*\n",
        "def modelEHA(ps, l):\n",
        "  # Tamanho da população ps, Comprimento do cromossomo l\n",
        "  population = InitPopulation(ps, l)\n",
        "\n",
        "  while not(StopCondition()):\n",
        "\n",
        "    # Usar a população para executar a busca EHA*\n",
        "    population_results = AStarSearch(population, heuristic)\n",
        "    # Classificar a população com base nos resultados\n",
        "    population = EvaluateSolution(population, population_results)\n",
        "\n",
        "    # O primeiro elemento é considerado o melhor candidato\n",
        "    c = population[0]\n",
        "    if not(StopCondition()):\n",
        "      # Cria a próxima geração via seleção, mutação, e cruzamento\n",
        "      children = GenChildren(population, ps)\n",
        "\n",
        "    return c\n",
        "\n",
        "def StopCondition():\n",
        "  return False\n",
        "\n",
        "def EvaluateSolution(population, population_results):\n",
        "  return None\n",
        "\n",
        "def InitPopulation(ps, l):\n",
        "  return None\n",
        "\n"
      ],
      "metadata": {
        "id": "usPYtz8pZy1S"
      },
      "execution_count": null,
      "outputs": []
    },
    {
      "cell_type": "markdown",
      "source": [
        "# Main para rodar o problema"
      ],
      "metadata": {
        "id": "wKSLSrRRcNHB"
      }
    },
    {
      "cell_type": "code",
      "source": [
        "### Começando o main\n",
        "##Lista do score/expansões para cada geração\n",
        "list_score = []\n",
        "flag = False\n",
        "generation = 0\n",
        "count_aux = 0\n",
        "\n",
        "init_population(length_population, length_chromosome)\n",
        "  \n",
        "while True:\n",
        "  score(POPULATION)\n",
        "  crossover(POPULATION)\n",
        "  NEW_POPULATION = mutation(NEW_POPULATION)\n",
        "  score(NEW_POPULATION)\n",
        "  POPULATION = selection(POPULATION,NEW_POPULATION)\n",
        "  NEW_POPULATION.clear()\n",
        "  \n",
        "  for ind in POPULATION:\n",
        "    list_score.append(ind.score)\n",
        "  \n",
        "  if generation == 0:\n",
        "    good_number = min(list_score)\n",
        "  \n",
        "  if min(list_score) < good_number:\n",
        "    good_number = min(list_score)\n",
        "    count_aux+=1\n",
        "  ### Parar quando chegar no número máximo ou quando não evolui por 3 vezes seguidas(good number serve para isso)\n",
        "  if generation == 100 or count_aux == 3:\n",
        "    flag=True \n",
        "\n",
        "  score_generation.append(generation)\n",
        "  score_points.append((POPULATION[0].score))\n",
        "  \n",
        "  if flag:\n",
        "    print(\"===================================================================\")\n",
        "    print(f'Individuo: {POPULATION[0].schema} e o score dele {POPULATION[0].score} geracao {generation}')\n",
        "    print(\"===================================================================\")\n",
        "    break\n",
        "    \n",
        "  generation += 1"
      ],
      "metadata": {
        "id": "MRm850WogkBE"
      },
      "execution_count": null,
      "outputs": []
    }
  ]
}