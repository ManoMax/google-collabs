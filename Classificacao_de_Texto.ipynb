{
  "nbformat": 4,
  "nbformat_minor": 0,
  "metadata": {
    "colab": {
      "name": "Classificacao de Texto.ipynb",
      "provenance": [],
      "collapsed_sections": [],
      "include_colab_link": true
    },
    "kernelspec": {
      "name": "python3",
      "display_name": "Python 3"
    },
    "language_info": {
      "name": "python"
    }
  },
  "cells": [
    {
      "cell_type": "markdown",
      "metadata": {
        "id": "view-in-github",
        "colab_type": "text"
      },
      "source": [
        "<a href=\"https://colab.research.google.com/github/ManoMax/google-collabs/blob/main/Classificacao_de_Texto.ipynb\" target=\"_parent\"><img src=\"https://colab.research.google.com/assets/colab-badge.svg\" alt=\"Open In Colab\"/></a>"
      ]
    },
    {
      "cell_type": "markdown",
      "source": [
        "# Identificação:\n",
        "\n",
        "Matrícula: XXXXXXXXX\n",
        "\n",
        "Nome: XXXX XXXX XXXX XXXX"
      ],
      "metadata": {
        "id": "BNsskyPyrK39"
      }
    },
    {
      "cell_type": "markdown",
      "source": [
        "# Classificacao de Texto\n",
        "\n",
        "Implemente um modelo de classificação textual para o dataset de notícias bbc.\n",
        "\n",
        "Escolha apenas 3 das 5 labels para produzir seu modelo.\n",
        "\n",
        "Se desejar, use outras opção de algoritmo para produzir seu modelo, por exemplo:\n",
        "\n",
        "LogisticRegression()\n",
        "\n",
        "RandomForestClassifier()\n",
        "\n",
        "SVC()\n",
        "\n",
        "LinearSVC()\n",
        "\n",
        "KNeighborsClassifier()\n",
        "\n",
        "Para avaliar, basta imprimir o classification report.\n",
        "\n",
        "\n",
        "\n"
      ],
      "metadata": {
        "id": "wYxzSPQnrQRn"
      }
    },
    {
      "cell_type": "code",
      "source": [
        "#Exemplo de como filtrar o dataframe (para as labels business e entertainment):\n",
        "#df = df[(df['category'] == 'business') | (df['category'] == 'entertainment')]"
      ],
      "metadata": {
        "id": "G916UlsIuuJI"
      },
      "execution_count": null,
      "outputs": []
    }
  ]
}